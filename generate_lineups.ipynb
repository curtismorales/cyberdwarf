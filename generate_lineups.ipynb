{
 "cells": [
  {
   "cell_type": "code",
   "execution_count": 1,
   "metadata": {},
   "outputs": [],
   "source": [
    "import pandas as pd\n",
    "\n",
    "from lineups import FantasyTeam, Week"
   ]
  },
  {
   "cell_type": "code",
   "execution_count": 2,
   "metadata": {},
   "outputs": [],
   "source": [
    "OWNERS = [\"Oscar\", \"Lucy\", \"Curtis\", \"Diana\", \"Luis\"]\n",
    "\n",
    "roster_data = pd.read_csv(\"fantasy_rosters.csv\")\n",
    "rosters = [FantasyTeam(roster_data[roster_data[\"owner\"] == o]) for o in OWNERS]"
   ]
  },
  {
   "cell_type": "code",
   "execution_count": 3,
   "metadata": {
    "scrolled": true
   },
   "outputs": [
    {
     "data": {
      "text/plain": [
       "(owner\n",
       " Curtis    22.0\n",
       " Diana     18.0\n",
       " Lucy      19.0\n",
       " Luis      14.0\n",
       " Oscar     17.0\n",
       " dtype: float64,\n",
       " owner     Curtis   Diana    Lucy    Luis   Oscar\n",
       " pts       119.34  115.01  110.67  107.84  120.78\n",
       " trb        40.57   35.36   44.22   48.11   31.38\n",
       " ast        35.99   23.95   26.24   23.82   24.63\n",
       " stl         5.08    7.96    5.96    5.06    5.83\n",
       " blk         4.54    4.63    3.90    4.94    3.76\n",
       " fg3        12.02    8.25    8.49    4.08   11.24\n",
       " pts_rank    4.00    3.00    2.00    1.00    5.00\n",
       " trb_rank    3.00    2.00    4.00    5.00    1.00\n",
       " ast_rank    5.00    2.00    4.00    1.00    3.00\n",
       " stl_rank    2.00    5.00    4.00    1.00    3.00\n",
       " blk_rank    3.00    4.00    2.00    5.00    1.00\n",
       " fg3_rank    5.00    2.00    3.00    1.00    4.00)"
      ]
     },
     "execution_count": 3,
     "metadata": {},
     "output_type": "execute_result"
    }
   ],
   "source": [
    "defaults = Week([r.default_lineup for r in rosters])\n",
    "defaults.results_by_averages"
   ]
  },
  {
   "cell_type": "code",
   "execution_count": 4,
   "metadata": {
    "scrolled": true
   },
   "outputs": [
    {
     "data": {
      "text/plain": [
       "(owner\n",
       " Curtis    19.0\n",
       " Diana     19.0\n",
       " Lucy      17.0\n",
       " Luis      16.0\n",
       " Oscar     19.0\n",
       " dtype: float64,\n",
       " owner     Curtis   Diana    Lucy   Luis   Oscar\n",
       " pts       126.49  112.85  110.67  99.33  123.58\n",
       " trb        38.14   39.17   44.22  47.70   31.87\n",
       " ast        37.89   23.05   26.24  23.84   24.46\n",
       " stl         5.55    7.57    5.96   6.23    6.33\n",
       " blk         2.79    6.06    3.90   4.95    4.02\n",
       " fg3        13.22    8.22    8.49   4.78   11.42\n",
       " pts_rank    5.00    3.00    2.00   1.00    4.00\n",
       " trb_rank    2.00    3.00    4.00   5.00    1.00\n",
       " ast_rank    5.00    1.00    4.00   2.00    3.00\n",
       " stl_rank    1.00    5.00    2.00   3.00    4.00\n",
       " blk_rank    1.00    5.00    2.00   4.00    3.00\n",
       " fg3_rank    5.00    2.00    3.00   1.00    4.00)"
      ]
     },
     "execution_count": 4,
     "metadata": {},
     "output_type": "execute_result"
    }
   ],
   "source": [
    "max_zs = Week([r.max_z_lineup for r in rosters])\n",
    "max_zs.results_by_averages"
   ]
  },
  {
   "cell_type": "code",
   "execution_count": 5,
   "metadata": {},
   "outputs": [],
   "source": [
    "def get_delta(lineup, result, owner):\n",
    "    scores = result[0]\n",
    "    score = scores[owner]\n",
    "    rank = scores.rank(ascending=False)[owner]\n",
    "    if rank == 1.0:\n",
    "        delta = score - scores.nlargest(2).min()\n",
    "    else:\n",
    "        delta = score - scores.max()\n",
    "    return {\n",
    "        \"lineup\": lineup,\n",
    "        \"score\": score,\n",
    "        \"delta\": delta,\n",
    "        \"rank\": rank,\n",
    "    }"
   ]
  },
  {
   "cell_type": "code",
   "execution_count": 6,
   "metadata": {},
   "outputs": [],
   "source": [
    "top_lineups = {}\n",
    "\n",
    "for i, r in enumerate(rosters):\n",
    "    owner = r.owner\n",
    "    all_possible_lineups = r.all_possible_lineups()\n",
    "\n",
    "    others = rosters[:i] + rosters[(i + 1):]\n",
    "    defaults = [o.default_lineup for o in others]\n",
    "    max_zs = [o.max_z_lineup for o in others]\n",
    "\n",
    "    default_results = []\n",
    "    max_z_results = []\n",
    "\n",
    "    for l in all_possible_lineups:\n",
    "        d_result = Week(defaults + [l]).score_by_averages()\n",
    "        mz_result = Week(max_zs + [l]).score_by_averages()\n",
    "\n",
    "        default_results.append(get_delta(l, d_result, owner))\n",
    "        max_z_results.append(get_delta(l, mz_result, owner))\n",
    "        \n",
    "    top_lineups[f\"{owner}_default\"] = sorted(default_results, key=lambda x: x[\"delta\"], reverse=True)[:3]\n",
    "    top_lineups[f\"{owner}_max_z\"] = sorted(max_z_results, key=lambda x: x[\"delta\"], reverse=True)[:3]"
   ]
  },
  {
   "cell_type": "code",
   "execution_count": 7,
   "metadata": {},
   "outputs": [
    {
     "data": {
      "text/plain": [
       "{'Oscar_default': [{'lineup': Lineup([('CJ McCollum', 'G'), ('James Harden', 'G'), ('Paul George', 'F'), ('Zion Williamson', 'F'), ('LaMarcus Aldridge', 'C')]),\n",
       "   'score': 19.0,\n",
       "   'delta': -2.0,\n",
       "   'rank': 2.0},\n",
       "  {'lineup': Lineup([(\"De'Aaron Fox\", 'G'), ('James Harden', 'G'), ('Brandon Ingram', 'F'), ('Zion Williamson', 'F'), ('LaMarcus Aldridge', 'C')]),\n",
       "   'score': 19.0,\n",
       "   'delta': -2.0,\n",
       "   'rank': 2.0},\n",
       "  {'lineup': Lineup([(\"De'Aaron Fox\", 'G'), ('James Harden', 'G'), ('Brandon Ingram', 'F'), ('Paul George', 'F'), ('Zion Williamson', 'F')]),\n",
       "   'score': 19.0,\n",
       "   'delta': -3.0,\n",
       "   'rank': 2.0}],\n",
       " 'Oscar_max_z': [{'lineup': Lineup([(\"De'Aaron Fox\", 'G'), ('James Harden', 'G'), ('Brandon Ingram', 'F'), ('Paul George', 'F'), ('Zion Williamson', 'F')]),\n",
       "   'score': 19.0,\n",
       "   'delta': 0.0,\n",
       "   'rank': 2.0},\n",
       "  {'lineup': Lineup([(\"De'Aaron Fox\", 'G'), ('James Harden', 'G'), ('Brandon Ingram', 'F'), ('Paul George', 'F'), ('LaMarcus Aldridge', 'C')]),\n",
       "   'score': 18.0,\n",
       "   'delta': -1.0,\n",
       "   'rank': 3.0},\n",
       "  {'lineup': Lineup([(\"De'Aaron Fox\", 'G'), ('James Harden', 'G'), ('Aaron Gordon', 'F'), ('Brandon Ingram', 'F'), ('Paul George', 'F')]),\n",
       "   'score': 18.0,\n",
       "   'delta': -1.0,\n",
       "   'rank': 3.5}],\n",
       " 'Lucy_default': [{'lineup': Lineup([('Kemba Walker', 'G'), ('Ben Simmons', 'X'), ('Giannis Antetokounmpo', 'F'), ('Pascal Siakam', 'F'), ('Nikola Vucevic', 'C')]),\n",
       "   'score': 19.0,\n",
       "   'delta': -3.0,\n",
       "   'rank': 2.0},\n",
       "  {'lineup': Lineup([('Kemba Walker', 'G'), ('Ben Simmons', 'X'), ('Giannis Antetokounmpo', 'F'), ('Jaren Jackson Jr.', 'F'), ('Nikola Vucevic', 'C')]),\n",
       "   'score': 17.0,\n",
       "   'delta': -4.0,\n",
       "   'rank': 4.0},\n",
       "  {'lineup': Lineup([('Kemba Walker', 'G'), ('Ben Simmons', 'X'), ('Giannis Antetokounmpo', 'F'), ('Jaren Jackson Jr.', 'F'), ('Pascal Siakam', 'F')]),\n",
       "   'score': 17.0,\n",
       "   'delta': -5.0,\n",
       "   'rank': 4.0}],\n",
       " 'Lucy_max_z': [{'lineup': Lineup([('Kemba Walker', 'G'), ('Ben Simmons', 'X'), ('Giannis Antetokounmpo', 'F'), ('Pascal Siakam', 'F'), ('Nikola Vucevic', 'C')]),\n",
       "   'score': 17.0,\n",
       "   'delta': -2.0,\n",
       "   'rank': 4.0},\n",
       "  {'lineup': Lineup([('Kemba Walker', 'G'), ('Ben Simmons', 'X'), ('Jaylen Brown', 'X'), ('Giannis Antetokounmpo', 'F'), ('Pascal Siakam', 'F')]),\n",
       "   'score': 17.0,\n",
       "   'delta': -2.0,\n",
       "   'rank': 4.0},\n",
       "  {'lineup': Lineup([('Kemba Walker', 'G'), ('Ben Simmons', 'X'), ('Jaylen Brown', 'X'), ('Giannis Antetokounmpo', 'F'), ('Nikola Vucevic', 'C')]),\n",
       "   'score': 17.0,\n",
       "   'delta': -2.0,\n",
       "   'rank': 4.0}],\n",
       " 'Curtis_default': [{'lineup': Lineup([('Damian Lillard', 'G'), ('Luka Doncic', 'X'), ('Kristaps Porzingis', 'F'), ('LeBron James', 'F'), ('Hassan Whiteside', 'C')]),\n",
       "   'score': 24.0,\n",
       "   'delta': 6.0,\n",
       "   'rank': 1.0},\n",
       "  {'lineup': Lineup([('Damian Lillard', 'G'), ('Luka Doncic', 'X'), ('LeBron James', 'F'), ('Hassan Whiteside', 'C'), ('Joel Embiid', 'C')]),\n",
       "   'score': 24.0,\n",
       "   'delta': 6.0,\n",
       "   'rank': 1.0},\n",
       "  {'lineup': Lineup([('Damian Lillard', 'G'), ('Kyle Lowry', 'G'), ('Jonathan Isaac', 'F'), ('LeBron James', 'F'), ('Joel Embiid', 'C')]),\n",
       "   'score': 24.0,\n",
       "   'delta': 5.0,\n",
       "   'rank': 1.0}],\n",
       " 'Curtis_max_z': [{'lineup': Lineup([('Damian Lillard', 'G'), ('Luka Doncic', 'X'), ('Kristaps Porzingis', 'F'), ('LeBron James', 'F'), ('Hassan Whiteside', 'C')]),\n",
       "   'score': 24.0,\n",
       "   'delta': 5.0,\n",
       "   'rank': 1.0},\n",
       "  {'lineup': Lineup([('Damian Lillard', 'G'), ('Luka Doncic', 'X'), ('Kristaps Porzingis', 'F'), ('LeBron James', 'F'), ('Joel Embiid', 'C')]),\n",
       "   'score': 22.0,\n",
       "   'delta': 4.0,\n",
       "   'rank': 1.0},\n",
       "  {'lineup': Lineup([('Kyle Lowry', 'G'), ('Luka Doncic', 'X'), ('LeBron James', 'F'), ('Hassan Whiteside', 'C'), ('Joel Embiid', 'C')]),\n",
       "   'score': 23.0,\n",
       "   'delta': 3.0,\n",
       "   'rank': 1.0}],\n",
       " 'Diana_default': [{'lineup': Lineup([('Jrue Holiday', 'G'), ('Jayson Tatum', 'X'), ('Anthony Davis', 'F'), ('Jimmy Butler', 'F'), ('Kawhi Leonard', 'F')]),\n",
       "   'score': 20.0,\n",
       "   'delta': -2.0,\n",
       "   'rank': 2.0},\n",
       "  {'lineup': Lineup([('Chris Paul', 'G'), ('Jrue Holiday', 'G'), ('Jayson Tatum', 'X'), ('Anthony Davis', 'F'), ('Kawhi Leonard', 'F')]),\n",
       "   'score': 20.0,\n",
       "   'delta': -2.0,\n",
       "   'rank': 2.0},\n",
       "  {'lineup': Lineup([('Jrue Holiday', 'G'), ('Malcolm Brogdon', 'G'), ('Jayson Tatum', 'X'), ('Anthony Davis', 'F'), ('Kawhi Leonard', 'F')]),\n",
       "   'score': 20.0,\n",
       "   'delta': -2.0,\n",
       "   'rank': 2.0}],\n",
       " 'Diana_max_z': [{'lineup': Lineup([('Malcolm Brogdon', 'G'), ('Jayson Tatum', 'X'), ('Anthony Davis', 'F'), ('Jimmy Butler', 'F'), ('Bam Adebayo', 'C')]),\n",
       "   'score': 20.0,\n",
       "   'delta': 1.0,\n",
       "   'rank': 1.0},\n",
       "  {'lineup': Lineup([('Jrue Holiday', 'G'), ('Jayson Tatum', 'X'), ('Anthony Davis', 'F'), ('Jimmy Butler', 'F'), ('Kawhi Leonard', 'F')]),\n",
       "   'score': 20.0,\n",
       "   'delta': 0.0,\n",
       "   'rank': 1.5},\n",
       "  {'lineup': Lineup([('Chris Paul', 'G'), ('Jayson Tatum', 'X'), ('Anthony Davis', 'F'), ('Kawhi Leonard', 'F'), ('Bam Adebayo', 'C')]),\n",
       "   'score': 19.0,\n",
       "   'delta': 0.0,\n",
       "   'rank': 2.0}],\n",
       " 'Luis_default': [{'lineup': Lineup([('Fred VanVleet', 'G'), ('Russell Westbrook', 'G'), ('Deandre Ayton', 'C'), ('Nikola Jokic', 'C'), ('Rudy Gobert', 'C')]),\n",
       "   'score': 17.0,\n",
       "   'delta': -4.0,\n",
       "   'rank': 4.0},\n",
       "  {'lineup': Lineup([('Russell Westbrook', 'G'), ('Victor Oladipo', 'G'), ('Deandre Ayton', 'C'), ('Nikola Jokic', 'C'), ('Rudy Gobert', 'C')]),\n",
       "   'score': 17.0,\n",
       "   'delta': -4.0,\n",
       "   'rank': 4.0},\n",
       "  {'lineup': Lineup([('Fred VanVleet', 'G'), ('Victor Oladipo', 'G'), ('Deandre Ayton', 'C'), ('Nikola Jokic', 'C'), ('Rudy Gobert', 'C')]),\n",
       "   'score': 17.0,\n",
       "   'delta': -4.0,\n",
       "   'rank': 4.0}],\n",
       " 'Luis_max_z': [{'lineup': Lineup([('Fred VanVleet', 'G'), ('Russell Westbrook', 'G'), ('Deandre Ayton', 'C'), ('Nikola Jokic', 'C'), ('Rudy Gobert', 'C')]),\n",
       "   'score': 16.0,\n",
       "   'delta': -3.0,\n",
       "   'rank': 5.0},\n",
       "  {'lineup': Lineup([('Fred VanVleet', 'G'), ('Russell Westbrook', 'G'), ('DeMar DeRozan', 'X'), ('Nikola Jokic', 'C'), ('Rudy Gobert', 'C')]),\n",
       "   'score': 16.0,\n",
       "   'delta': -3.0,\n",
       "   'rank': 5.0},\n",
       "  {'lineup': Lineup([('Fred VanVleet', 'G'), ('Russell Westbrook', 'G'), ('DeMar DeRozan', 'X'), ('Deandre Ayton', 'C'), ('Nikola Jokic', 'C')]),\n",
       "   'score': 16.0,\n",
       "   'delta': -3.0,\n",
       "   'rank': 5.0}]}"
      ]
     },
     "execution_count": 7,
     "metadata": {},
     "output_type": "execute_result"
    }
   ],
   "source": [
    "top_lineups"
   ]
  },
  {
   "cell_type": "code",
   "execution_count": 12,
   "metadata": {},
   "outputs": [],
   "source": [
    "top_lineups_df = pd.DataFrame([\n",
    "    {\n",
    "        \"owner\": k.split(\"_\")[0],\n",
    "        \"opposition\": k.split(\"_\")[1],\n",
    "        \"guard1\": l[\"lineup\"].players[0].name,\n",
    "        \"guard2\": l[\"lineup\"].players[1].name,\n",
    "        \"big1\": l[\"lineup\"].players[2].name,\n",
    "        \"big2\": l[\"lineup\"].players[3].name,\n",
    "        \"big3\": l[\"lineup\"].players[4].name,\n",
    "        \"score\": l[\"score\"],\n",
    "        \"delta\": l[\"delta\"],\n",
    "        \"place\": l[\"rank\"],\n",
    "    }\n",
    "    for k, lineups in top_lineups.items()\n",
    "    for l in lineups\n",
    "])\n",
    "top_lineups_df.to_csv(\"top_lineups.csv\")"
   ]
  },
  {
   "cell_type": "code",
   "execution_count": 19,
   "metadata": {},
   "outputs": [],
   "source": [
    "r = rosters[2]\n",
    "owner = r.owner\n",
    "lineups_without_lebron = [\n",
    "    l for l in r.all_possible_lineups()\n",
    "    if all(p.name != \"LeBron James\" for p in l.players)\n",
    "]\n",
    "\n",
    "others = rosters[:2] + rosters[(2 + 1):]\n",
    "defaults = [o.default_lineup for o in others]\n",
    "max_zs = [o.max_z_lineup for o in others]\n",
    "\n",
    "default_results = []\n",
    "max_z_results = []\n",
    "\n",
    "for l in lineups_without_lebron:\n",
    "    d_result = Week(defaults + [l]).score_by_averages()\n",
    "    mz_result = Week(max_zs + [l]).score_by_averages()\n",
    "\n",
    "    default_results.append(get_delta(l, d_result, owner))\n",
    "    max_z_results.append(get_delta(l, mz_result, owner))\n",
    "\n",
    "no_lebron_default = sorted(default_results, key=lambda x: x[\"delta\"], reverse=True)[:3]\n",
    "no_lebron_max_z = sorted(max_z_results, key=lambda x: x[\"delta\"], reverse=True)[:3]"
   ]
  },
  {
   "cell_type": "code",
   "execution_count": 24,
   "metadata": {},
   "outputs": [
    {
     "data": {
      "text/plain": [
       "['Luka Doncic',\n",
       " 'Damian Lillard',\n",
       " 'Kyle Lowry',\n",
       " 'Hassan Whiteside',\n",
       " 'Joel Embiid',\n",
       " 'Luka Doncic',\n",
       " 'Damian Lillard',\n",
       " 'Kyle Lowry',\n",
       " 'Joel Embiid',\n",
       " 'Jonathan Isaac',\n",
       " 'Luka Doncic',\n",
       " 'Kyle Lowry',\n",
       " 'Kristaps Porzingis',\n",
       " 'Lonzo Ball',\n",
       " 'Jonathan Isaac']"
      ]
     },
     "execution_count": 24,
     "metadata": {},
     "output_type": "execute_result"
    }
   ],
   "source": [
    "[p.name for l in no_lebron_default for p in l[\"lineup\"].players]"
   ]
  },
  {
   "cell_type": "code",
   "execution_count": 25,
   "metadata": {},
   "outputs": [
    {
     "data": {
      "text/plain": [
       "['Luka Doncic',\n",
       " 'Damian Lillard',\n",
       " 'Kyle Lowry',\n",
       " 'Hassan Whiteside',\n",
       " 'Kristaps Porzingis',\n",
       " 'Luka Doncic',\n",
       " 'Damian Lillard',\n",
       " 'Kyle Lowry',\n",
       " 'Hassan Whiteside',\n",
       " 'Joel Embiid',\n",
       " 'Luka Doncic',\n",
       " 'Damian Lillard',\n",
       " 'Kyle Lowry',\n",
       " 'Kristaps Porzingis',\n",
       " 'Joel Embiid']"
      ]
     },
     "execution_count": 25,
     "metadata": {},
     "output_type": "execute_result"
    }
   ],
   "source": [
    "[p.name for l in no_lebron_max_z for p in l[\"lineup\"].players]"
   ]
  },
  {
   "cell_type": "code",
   "execution_count": null,
   "metadata": {},
   "outputs": [],
   "source": []
  }
 ],
 "metadata": {
  "kernelspec": {
   "display_name": "Python 3",
   "language": "python",
   "name": "python3"
  },
  "language_info": {
   "codemirror_mode": {
    "name": "ipython",
    "version": 3
   },
   "file_extension": ".py",
   "mimetype": "text/x-python",
   "name": "python",
   "nbconvert_exporter": "python",
   "pygments_lexer": "ipython3",
   "version": "3.8.5"
  }
 },
 "nbformat": 4,
 "nbformat_minor": 4
}
